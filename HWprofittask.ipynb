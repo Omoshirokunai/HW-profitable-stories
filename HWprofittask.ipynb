{
 "metadata": {
  "language_info": {
   "codemirror_mode": {
    "name": "ipython",
    "version": 3
   },
   "file_extension": ".py",
   "mimetype": "text/x-python",
   "name": "python",
   "nbconvert_exporter": "python",
   "pygments_lexer": "ipython3",
   "version": "3.8.1"
  },
  "orig_nbformat": 2,
  "kernelspec": {
   "name": "python3",
   "display_name": "Python 3.8.1 64-bit",
   "metadata": {
    "interpreter": {
     "hash": "f8a9cc08408cc5487073273d9014e48ef65ad6bb7ef5a7982cb3c4921ce52fde"
    }
   }
  }
 },
 "nbformat": 4,
 "nbformat_minor": 2,
 "cells": [
  {
   "cell_type": "code",
   "execution_count": 6,
   "metadata": {},
   "outputs": [],
   "source": [
    "import pandas as pd\n",
    "import matplotlib.pyplot as plt\n",
    "%matplotlib inline "
   ]
  },
  {
   "cell_type": "code",
   "execution_count": 7,
   "metadata": {},
   "outputs": [],
   "source": [
    "\n",
    "# import numpy as np\n",
    "data_path = \"HollywoodsMostProfitableStories.csv\"\n",
    "df = pd.read_csv(data_path)"
   ]
  },
  {
   "cell_type": "code",
   "execution_count": 22,
   "metadata": {},
   "outputs": [
    {
     "output_type": "execute_result",
     "data": {
      "text/plain": [
       "                   Film    Genre  Lead Studio  Audience  score %  \\\n",
       "0            27 Dresses   Comedy          Fox               71.0   \n",
       "1  (500) Days of Summer   Comedy          Fox               81.0   \n",
       "2    A Dangerous Method    Drama  Independent               89.0   \n",
       "3         A Serious Man    Drama    Universal               64.0   \n",
       "4   Across the Universe  Romance  Independent               84.0   \n",
       "\n",
       "   Profitability  Rotten Tomatoes %  Worldwide Gross  Year  \n",
       "0       5.343622               40.0       160.308654  2008  \n",
       "1       8.096000               87.0        60.720000  2009  \n",
       "2       0.448645               79.0         8.972895  2011  \n",
       "3       4.382857               89.0        30.680000  2009  \n",
       "4       0.652603               54.0        29.367143  2007  "
      ],
      "text/html": "<div>\n<style scoped>\n    .dataframe tbody tr th:only-of-type {\n        vertical-align: middle;\n    }\n\n    .dataframe tbody tr th {\n        vertical-align: top;\n    }\n\n    .dataframe thead th {\n        text-align: right;\n    }\n</style>\n<table border=\"1\" class=\"dataframe\">\n  <thead>\n    <tr style=\"text-align: right;\">\n      <th></th>\n      <th>Film</th>\n      <th>Genre</th>\n      <th>Lead Studio</th>\n      <th>Audience  score %</th>\n      <th>Profitability</th>\n      <th>Rotten Tomatoes %</th>\n      <th>Worldwide Gross</th>\n      <th>Year</th>\n    </tr>\n  </thead>\n  <tbody>\n    <tr>\n      <th>0</th>\n      <td>27 Dresses</td>\n      <td>Comedy</td>\n      <td>Fox</td>\n      <td>71.0</td>\n      <td>5.343622</td>\n      <td>40.0</td>\n      <td>160.308654</td>\n      <td>2008</td>\n    </tr>\n    <tr>\n      <th>1</th>\n      <td>(500) Days of Summer</td>\n      <td>Comedy</td>\n      <td>Fox</td>\n      <td>81.0</td>\n      <td>8.096000</td>\n      <td>87.0</td>\n      <td>60.720000</td>\n      <td>2009</td>\n    </tr>\n    <tr>\n      <th>2</th>\n      <td>A Dangerous Method</td>\n      <td>Drama</td>\n      <td>Independent</td>\n      <td>89.0</td>\n      <td>0.448645</td>\n      <td>79.0</td>\n      <td>8.972895</td>\n      <td>2011</td>\n    </tr>\n    <tr>\n      <th>3</th>\n      <td>A Serious Man</td>\n      <td>Drama</td>\n      <td>Universal</td>\n      <td>64.0</td>\n      <td>4.382857</td>\n      <td>89.0</td>\n      <td>30.680000</td>\n      <td>2009</td>\n    </tr>\n    <tr>\n      <th>4</th>\n      <td>Across the Universe</td>\n      <td>Romance</td>\n      <td>Independent</td>\n      <td>84.0</td>\n      <td>0.652603</td>\n      <td>54.0</td>\n      <td>29.367143</td>\n      <td>2007</td>\n    </tr>\n  </tbody>\n</table>\n</div>"
     },
     "metadata": {},
     "execution_count": 22
    }
   ],
   "source": [
    "df.head()"
   ]
  },
  {
   "source": [],
   "cell_type": "markdown",
   "metadata": {}
  },
  {
   "source": [
    "Group each genre and get the total amount made each movie in that genre"
   ],
   "cell_type": "markdown",
   "metadata": {}
  },
  {
   "cell_type": "code",
   "execution_count": 8,
   "metadata": {},
   "outputs": [
    {
     "output_type": "execute_result",
     "data": {
      "text/plain": [
       "       Genre  Worldwide Gross\n",
       "0     Action        93.400000\n",
       "1  Animation      1070.330432\n",
       "2     Comedy      5350.605696\n",
       "3      Drama      1287.147873\n",
       "4    Fantasy       285.431000\n",
       "5    Romance      2003.131439"
      ],
      "text/html": "<div>\n<style scoped>\n    .dataframe tbody tr th:only-of-type {\n        vertical-align: middle;\n    }\n\n    .dataframe tbody tr th {\n        vertical-align: top;\n    }\n\n    .dataframe thead th {\n        text-align: right;\n    }\n</style>\n<table border=\"1\" class=\"dataframe\">\n  <thead>\n    <tr style=\"text-align: right;\">\n      <th></th>\n      <th>Genre</th>\n      <th>Worldwide Gross</th>\n    </tr>\n  </thead>\n  <tbody>\n    <tr>\n      <th>0</th>\n      <td>Action</td>\n      <td>93.400000</td>\n    </tr>\n    <tr>\n      <th>1</th>\n      <td>Animation</td>\n      <td>1070.330432</td>\n    </tr>\n    <tr>\n      <th>2</th>\n      <td>Comedy</td>\n      <td>5350.605696</td>\n    </tr>\n    <tr>\n      <th>3</th>\n      <td>Drama</td>\n      <td>1287.147873</td>\n    </tr>\n    <tr>\n      <th>4</th>\n      <td>Fantasy</td>\n      <td>285.431000</td>\n    </tr>\n    <tr>\n      <th>5</th>\n      <td>Romance</td>\n      <td>2003.131439</td>\n    </tr>\n  </tbody>\n</table>\n</div>"
     },
     "metadata": {},
     "execution_count": 8
    }
   ],
   "source": [
    "best_genre=df[[\"Genre\",\"Worldwide Gross\"]].groupby([\"Genre\"], as_index=False).sum()\n",
    "best_genre"
   ]
  },
  {
   "cell_type": "code",
   "execution_count": 9,
   "metadata": {},
   "outputs": [
    {
     "output_type": "display_data",
     "data": {
      "text/plain": "<Figure size 432x288 with 1 Axes>",
      "image/png": "[encoded data removed]"
     },
     "metadata": {
      "needs_background": "light"
     }
    }
   ],
   "source": [
    "plt.bar(best_genre.Genre,best_genre[\"Worldwide Gross\"])\n",
    "plt.show()"
   ]
  },
  {
   "cell_type": "code",
   "execution_count": 21,
   "metadata": {},
   "outputs": [
    {
     "output_type": "execute_result",
     "data": {
      "text/plain": [
       "    Genre  Worldwide Gross\n",
       "2  Comedy      5350.605696"
      ],
      "text/html": "<div>\n<style scoped>\n    .dataframe tbody tr th:only-of-type {\n        vertical-align: middle;\n    }\n\n    .dataframe tbody tr th {\n        vertical-align: top;\n    }\n\n    .dataframe thead th {\n        text-align: right;\n    }\n</style>\n<table border=\"1\" class=\"dataframe\">\n  <thead>\n    <tr style=\"text-align: right;\">\n      <th></th>\n      <th>Genre</th>\n      <th>Worldwide Gross</th>\n    </tr>\n  </thead>\n  <tbody>\n    <tr>\n      <th>2</th>\n      <td>Comedy</td>\n      <td>5350.605696</td>\n    </tr>\n  </tbody>\n</table>\n</div>"
     },
     "metadata": {},
     "execution_count": 21
    }
   ],
   "source": [
    "best_genre.loc[best_genre[\"Worldwide Gross\"] == max(best_genre[\"Worldwide Gross\"])] "
   ]
  },
  {
   "source": [
    "### comedy made the most out of all the genres"
   ],
   "cell_type": "markdown",
   "metadata": {}
  },
  {
   "source": [],
   "cell_type": "markdown",
   "metadata": {}
  },
  {
   "source": [
    "## Which genre made most in terms of profitablilty?"
   ],
   "cell_type": "markdown",
   "metadata": {}
  },
  {
   "cell_type": "code",
   "execution_count": 23,
   "metadata": {},
   "outputs": [
    {
     "output_type": "execute_result",
     "data": {
      "text/plain": [
       "       Genre  Profitability\n",
       "0     Action       1.245333\n",
       "1  Animation       9.649684\n",
       "2     Comedy     153.481917\n",
       "3      Drama     109.293839\n",
       "4    Fantasy       1.783944\n",
       "5    Romance      61.199579"
      ],
      "text/html": "<div>\n<style scoped>\n    .dataframe tbody tr th:only-of-type {\n        vertical-align: middle;\n    }\n\n    .dataframe tbody tr th {\n        vertical-align: top;\n    }\n\n    .dataframe thead th {\n        text-align: right;\n    }\n</style>\n<table border=\"1\" class=\"dataframe\">\n  <thead>\n    <tr style=\"text-align: right;\">\n      <th></th>\n      <th>Genre</th>\n      <th>Profitability</th>\n    </tr>\n  </thead>\n  <tbody>\n    <tr>\n      <th>0</th>\n      <td>Action</td>\n      <td>1.245333</td>\n    </tr>\n    <tr>\n      <th>1</th>\n      <td>Animation</td>\n      <td>9.649684</td>\n    </tr>\n    <tr>\n      <th>2</th>\n      <td>Comedy</td>\n      <td>153.481917</td>\n    </tr>\n    <tr>\n      <th>3</th>\n      <td>Drama</td>\n      <td>109.293839</td>\n    </tr>\n    <tr>\n      <th>4</th>\n      <td>Fantasy</td>\n      <td>1.783944</td>\n    </tr>\n    <tr>\n      <th>5</th>\n      <td>Romance</td>\n      <td>61.199579</td>\n    </tr>\n  </tbody>\n</table>\n</div>"
     },
     "metadata": {},
     "execution_count": 23
    }
   ],
   "source": [
    "profit_genre=df[[\"Genre\",\"Profitability\"]].groupby([\"Genre\"], as_index=False).sum()\n",
    "profit_genre"
   ]
  },
  {
   "cell_type": "code",
   "execution_count": 25,
   "metadata": {},
   "outputs": [
    {
     "output_type": "display_data",
     "data": {
      "text/plain": "<Figure size 432x288 with 1 Axes>",
      "image/png": "[encoded data removed]"
     },
     "metadata": {
      "needs_background": "light"
     }
    }
   ],
   "source": [
    "plt.bar(profit_genre.Genre,profit_genre[\"Profitability\"])\n",
    "plt.show()"
   ]
  },
  {
   "cell_type": "code",
   "execution_count": 31,
   "metadata": {},
   "outputs": [
    {
     "output_type": "execute_result",
     "data": {
      "text/plain": [
       "    Genre  Profitability\n",
       "2  Comedy     153.481917"
      ],
      "text/html": "<div>\n<style scoped>\n    .dataframe tbody tr th:only-of-type {\n        vertical-align: middle;\n    }\n\n    .dataframe tbody tr th {\n        vertical-align: top;\n    }\n\n    .dataframe thead th {\n        text-align: right;\n    }\n</style>\n<table border=\"1\" class=\"dataframe\">\n  <thead>\n    <tr style=\"text-align: right;\">\n      <th></th>\n      <th>Genre</th>\n      <th>Profitability</th>\n    </tr>\n  </thead>\n  <tbody>\n    <tr>\n      <th>2</th>\n      <td>Comedy</td>\n      <td>153.481917</td>\n    </tr>\n  </tbody>\n</table>\n</div>"
     },
     "metadata": {},
     "execution_count": 31
    }
   ],
   "source": [
    "profit_genre.loc[profit_genre[\"Profitability\"] == max(profit_genre[\"Profitability\"])]"
   ]
  },
  {
   "source": [
    "### comedy is the most profitable genre in genreal"
   ],
   "cell_type": "markdown",
   "metadata": {}
  },
  {
   "source": [
    "# which genre made the most on average?"
   ],
   "cell_type": "markdown",
   "metadata": {}
  },
  {
   "cell_type": "code",
   "execution_count": 26,
   "metadata": {},
   "outputs": [
    {
     "output_type": "execute_result",
     "data": {
      "text/plain": [
       "       Genre  Worldwide Gross\n",
       "0     Action        93.400000\n",
       "1  Animation       356.776811\n",
       "2     Comedy       130.502578\n",
       "3      Drama        99.011375\n",
       "4    Fantasy       285.431000\n",
       "5    Romance       133.542096"
      ],
      "text/html": "<div>\n<style scoped>\n    .dataframe tbody tr th:only-of-type {\n        vertical-align: middle;\n    }\n\n    .dataframe tbody tr th {\n        vertical-align: top;\n    }\n\n    .dataframe thead th {\n        text-align: right;\n    }\n</style>\n<table border=\"1\" class=\"dataframe\">\n  <thead>\n    <tr style=\"text-align: right;\">\n      <th></th>\n      <th>Genre</th>\n      <th>Worldwide Gross</th>\n    </tr>\n  </thead>\n  <tbody>\n    <tr>\n      <th>0</th>\n      <td>Action</td>\n      <td>93.400000</td>\n    </tr>\n    <tr>\n      <th>1</th>\n      <td>Animation</td>\n      <td>356.776811</td>\n    </tr>\n    <tr>\n      <th>2</th>\n      <td>Comedy</td>\n      <td>130.502578</td>\n    </tr>\n    <tr>\n      <th>3</th>\n      <td>Drama</td>\n      <td>99.011375</td>\n    </tr>\n    <tr>\n      <th>4</th>\n      <td>Fantasy</td>\n      <td>285.431000</td>\n    </tr>\n    <tr>\n      <th>5</th>\n      <td>Romance</td>\n      <td>133.542096</td>\n    </tr>\n  </tbody>\n</table>\n</div>"
     },
     "metadata": {},
     "execution_count": 26
    }
   ],
   "source": [
    "best_onavg_genre=df[[\"Genre\",\"Worldwide Gross\"]].groupby([\"Genre\"], as_index=False).mean()\n",
    "best_onavg_genre"
   ]
  },
  {
   "cell_type": "code",
   "execution_count": 27,
   "metadata": {},
   "outputs": [
    {
     "output_type": "display_data",
     "data": {
      "text/plain": "<Figure size 432x288 with 1 Axes>",
      "image/png": "[encoded data removed]"
     },
     "metadata": {
      "needs_background": "light"
     }
    }
   ],
   "source": [
    "plt.bar(best_onavg_genre.Genre,best_onavg_genre[\"Worldwide Gross\"])\n",
    "plt.show()"
   ]
  },
  {
   "cell_type": "code",
   "execution_count": 32,
   "metadata": {},
   "outputs": [
    {
     "output_type": "execute_result",
     "data": {
      "text/plain": [
       "       Genre  Worldwide Gross\n",
       "1  Animation       356.776811"
      ],
      "text/html": "<div>\n<style scoped>\n    .dataframe tbody tr th:only-of-type {\n        vertical-align: middle;\n    }\n\n    .dataframe tbody tr th {\n        vertical-align: top;\n    }\n\n    .dataframe thead th {\n        text-align: right;\n    }\n</style>\n<table border=\"1\" class=\"dataframe\">\n  <thead>\n    <tr style=\"text-align: right;\">\n      <th></th>\n      <th>Genre</th>\n      <th>Worldwide Gross</th>\n    </tr>\n  </thead>\n  <tbody>\n    <tr>\n      <th>1</th>\n      <td>Animation</td>\n      <td>356.776811</td>\n    </tr>\n  </tbody>\n</table>\n</div>"
     },
     "metadata": {},
     "execution_count": 32
    }
   ],
   "source": [
    "best_onavg_genre.loc[best_onavg_genre[\"Worldwide Gross\"] == max(best_onavg_genre[\"Worldwide Gross\"])]"
   ]
  },
  {
   "source": [
    "### on average animations make the most money"
   ],
   "cell_type": "markdown",
   "metadata": {}
  },
  {
   "source": [
    "## what about in terms of profitability?"
   ],
   "cell_type": "markdown",
   "metadata": {}
  },
  {
   "cell_type": "code",
   "execution_count": 28,
   "metadata": {},
   "outputs": [
    {
     "output_type": "execute_result",
     "data": {
      "text/plain": [
       "       Genre  Profitability\n",
       "0     Action       1.245333\n",
       "1  Animation       3.216561\n",
       "2     Comedy       3.935434\n",
       "3      Drama       8.407218\n",
       "4    Fantasy       1.783944\n",
       "5    Romance       4.371398"
      ],
      "text/html": "<div>\n<style scoped>\n    .dataframe tbody tr th:only-of-type {\n        vertical-align: middle;\n    }\n\n    .dataframe tbody tr th {\n        vertical-align: top;\n    }\n\n    .dataframe thead th {\n        text-align: right;\n    }\n</style>\n<table border=\"1\" class=\"dataframe\">\n  <thead>\n    <tr style=\"text-align: right;\">\n      <th></th>\n      <th>Genre</th>\n      <th>Profitability</th>\n    </tr>\n  </thead>\n  <tbody>\n    <tr>\n      <th>0</th>\n      <td>Action</td>\n      <td>1.245333</td>\n    </tr>\n    <tr>\n      <th>1</th>\n      <td>Animation</td>\n      <td>3.216561</td>\n    </tr>\n    <tr>\n      <th>2</th>\n      <td>Comedy</td>\n      <td>3.935434</td>\n    </tr>\n    <tr>\n      <th>3</th>\n      <td>Drama</td>\n      <td>8.407218</td>\n    </tr>\n    <tr>\n      <th>4</th>\n      <td>Fantasy</td>\n      <td>1.783944</td>\n    </tr>\n    <tr>\n      <th>5</th>\n      <td>Romance</td>\n      <td>4.371398</td>\n    </tr>\n  </tbody>\n</table>\n</div>"
     },
     "metadata": {},
     "execution_count": 28
    }
   ],
   "source": [
    "profit_onavg_genre=df[[\"Genre\",\"Profitability\"]].groupby([\"Genre\"], as_index=False).mean()\n",
    "profit_onavg_genre"
   ]
  },
  {
   "cell_type": "code",
   "execution_count": 30,
   "metadata": {},
   "outputs": [
    {
     "output_type": "display_data",
     "data": {
      "text/plain": "<Figure size 432x288 with 1 Axes>",
      "image/png": "[encoded data removed]"
     },
     "metadata": {
      "needs_background": "light"
     }
    }
   ],
   "source": [
    "plt.bar(profit_onavg_genre.Genre,profit_onavg_genre[\"Profitability\"])\n",
    "plt.show()"
   ]
  },
  {
   "cell_type": "code",
   "execution_count": 33,
   "metadata": {},
   "outputs": [
    {
     "output_type": "execute_result",
     "data": {
      "text/plain": [
       "   Genre  Profitability\n",
       "3  Drama       8.407218"
      ],
      "text/html": "<div>\n<style scoped>\n    .dataframe tbody tr th:only-of-type {\n        vertical-align: middle;\n    }\n\n    .dataframe tbody tr th {\n        vertical-align: top;\n    }\n\n    .dataframe thead th {\n        text-align: right;\n    }\n</style>\n<table border=\"1\" class=\"dataframe\">\n  <thead>\n    <tr style=\"text-align: right;\">\n      <th></th>\n      <th>Genre</th>\n      <th>Profitability</th>\n    </tr>\n  </thead>\n  <tbody>\n    <tr>\n      <th>3</th>\n      <td>Drama</td>\n      <td>8.407218</td>\n    </tr>\n  </tbody>\n</table>\n</div>"
     },
     "metadata": {},
     "execution_count": 33
    }
   ],
   "source": [
    "profit_onavg_genre.loc[profit_onavg_genre[\"Profitability\"] == max(profit_onavg_genre[\"Profitability\"])]"
   ]
  },
  {
   "source": [
    "### Drama is on avaerage the most profitable"
   ],
   "cell_type": "markdown",
   "metadata": {}
  },
  {
   "source": [],
   "cell_type": "markdown",
   "metadata": {}
  },
  {
   "source": [],
   "cell_type": "markdown",
   "metadata": {}
  },
  {
   "source": [
    "# Which year made the most money?"
   ],
   "cell_type": "markdown",
   "metadata": {}
  },
  {
   "cell_type": "code",
   "execution_count": 35,
   "metadata": {},
   "outputs": [
    {
     "output_type": "execute_result",
     "data": {
      "text/plain": [
       "   Year  Worldwide Gross\n",
       "0  2007      1314.755404\n",
       "1  2008      3539.170141\n",
       "2  2009      2007.390000\n",
       "3  2010      1707.999000\n",
       "4  2011      1520.731895"
      ],
      "text/html": "<div>\n<style scoped>\n    .dataframe tbody tr th:only-of-type {\n        vertical-align: middle;\n    }\n\n    .dataframe tbody tr th {\n        vertical-align: top;\n    }\n\n    .dataframe thead th {\n        text-align: right;\n    }\n</style>\n<table border=\"1\" class=\"dataframe\">\n  <thead>\n    <tr style=\"text-align: right;\">\n      <th></th>\n      <th>Year</th>\n      <th>Worldwide Gross</th>\n    </tr>\n  </thead>\n  <tbody>\n    <tr>\n      <th>0</th>\n      <td>2007</td>\n      <td>1314.755404</td>\n    </tr>\n    <tr>\n      <th>1</th>\n      <td>2008</td>\n      <td>3539.170141</td>\n    </tr>\n    <tr>\n      <th>2</th>\n      <td>2009</td>\n      <td>2007.390000</td>\n    </tr>\n    <tr>\n      <th>3</th>\n      <td>2010</td>\n      <td>1707.999000</td>\n    </tr>\n    <tr>\n      <th>4</th>\n      <td>2011</td>\n      <td>1520.731895</td>\n    </tr>\n  </tbody>\n</table>\n</div>"
     },
     "metadata": {},
     "execution_count": 35
    }
   ],
   "source": [
    "best_Year=df[[\"Year\",\"Worldwide Gross\"]].groupby([\"Year\"], as_index=False).sum()\n",
    "best_Year"
   ]
  },
  {
   "cell_type": "code",
   "execution_count": 36,
   "metadata": {},
   "outputs": [
    {
     "output_type": "display_data",
     "data": {
      "text/plain": "<Figure size 432x288 with 1 Axes>",
      "image/png": "[encoded data removed]"
     },
     "metadata": {
      "needs_background": "light"
     }
    }
   ],
   "source": [
    "plt.bar(best_Year.Year,best_Year[\"Worldwide Gross\"])\n",
    "plt.show()"
   ]
  },
  {
   "cell_type": "code",
   "execution_count": 37,
   "metadata": {},
   "outputs": [
    {
     "output_type": "execute_result",
     "data": {
      "text/plain": [
       "   Year  Worldwide Gross\n",
       "1  2008      3539.170141"
      ],
      "text/html": "<div>\n<style scoped>\n    .dataframe tbody tr th:only-of-type {\n        vertical-align: middle;\n    }\n\n    .dataframe tbody tr th {\n        vertical-align: top;\n    }\n\n    .dataframe thead th {\n        text-align: right;\n    }\n</style>\n<table border=\"1\" class=\"dataframe\">\n  <thead>\n    <tr style=\"text-align: right;\">\n      <th></th>\n      <th>Year</th>\n      <th>Worldwide Gross</th>\n    </tr>\n  </thead>\n  <tbody>\n    <tr>\n      <th>1</th>\n      <td>2008</td>\n      <td>3539.170141</td>\n    </tr>\n  </tbody>\n</table>\n</div>"
     },
     "metadata": {},
     "execution_count": 37
    }
   ],
   "source": [
    "best_Year.loc[best_Year[\"Worldwide Gross\"] == max(best_Year[\"Worldwide Gross\"])] "
   ]
  },
  {
   "source": [
    "### 2008 made the most Worldwide Gross"
   ],
   "cell_type": "markdown",
   "metadata": {}
  },
  {
   "source": [],
   "cell_type": "markdown",
   "metadata": {}
  },
  {
   "cell_type": "code",
   "execution_count": 38,
   "metadata": {},
   "outputs": [
    {
     "output_type": "execute_result",
     "data": {
      "text/plain": [
       "   Year  Profitability\n",
       "0  2007      44.643719\n",
       "1  2008     154.592402\n",
       "2  2009      60.279743\n",
       "3  2010      37.867772\n",
       "4  2011      39.270659"
      ],
      "text/html": "<div>\n<style scoped>\n    .dataframe tbody tr th:only-of-type {\n        vertical-align: middle;\n    }\n\n    .dataframe tbody tr th {\n        vertical-align: top;\n    }\n\n    .dataframe thead th {\n        text-align: right;\n    }\n</style>\n<table border=\"1\" class=\"dataframe\">\n  <thead>\n    <tr style=\"text-align: right;\">\n      <th></th>\n      <th>Year</th>\n      <th>Profitability</th>\n    </tr>\n  </thead>\n  <tbody>\n    <tr>\n      <th>0</th>\n      <td>2007</td>\n      <td>44.643719</td>\n    </tr>\n    <tr>\n      <th>1</th>\n      <td>2008</td>\n      <td>154.592402</td>\n    </tr>\n    <tr>\n      <th>2</th>\n      <td>2009</td>\n      <td>60.279743</td>\n    </tr>\n    <tr>\n      <th>3</th>\n      <td>2010</td>\n      <td>37.867772</td>\n    </tr>\n    <tr>\n      <th>4</th>\n      <td>2011</td>\n      <td>39.270659</td>\n    </tr>\n  </tbody>\n</table>\n</div>"
     },
     "metadata": {},
     "execution_count": 38
    }
   ],
   "source": [
    "profit_Year=df[[\"Year\",\"Profitability\"]].groupby([\"Year\"], as_index=False).sum()\n",
    "profit_Year"
   ]
  },
  {
   "cell_type": "code",
   "execution_count": 39,
   "metadata": {},
   "outputs": [
    {
     "output_type": "display_data",
     "data": {
      "text/plain": "<Figure size 432x288 with 1 Axes>",
      "image/png": "[encoded data removed]"
     },
     "metadata": {
      "needs_background": "light"
     }
    }
   ],
   "source": [
    "plt.bar(profit_Year.Year,profit_Year[\"Profitability\"])\n",
    "plt.show()"
   ]
  },
  {
   "cell_type": "code",
   "execution_count": 40,
   "metadata": {},
   "outputs": [
    {
     "output_type": "execute_result",
     "data": {
      "text/plain": [
       "   Year  Profitability\n",
       "1  2008     154.592402"
      ],
      "text/html": "<div>\n<style scoped>\n    .dataframe tbody tr th:only-of-type {\n        vertical-align: middle;\n    }\n\n    .dataframe tbody tr th {\n        vertical-align: top;\n    }\n\n    .dataframe thead th {\n        text-align: right;\n    }\n</style>\n<table border=\"1\" class=\"dataframe\">\n  <thead>\n    <tr style=\"text-align: right;\">\n      <th></th>\n      <th>Year</th>\n      <th>Profitability</th>\n    </tr>\n  </thead>\n  <tbody>\n    <tr>\n      <th>1</th>\n      <td>2008</td>\n      <td>154.592402</td>\n    </tr>\n  </tbody>\n</table>\n</div>"
     },
     "metadata": {},
     "execution_count": 40
    }
   ],
   "source": [
    "profit_Year.loc[profit_Year[\"Profitability\"] == max(profit_Year[\"Profitability\"])]"
   ]
  },
  {
   "source": [
    "### The most profitable year was 2008"
   ],
   "cell_type": "markdown",
   "metadata": {}
  },
  {
   "cell_type": "code",
   "execution_count": null,
   "metadata": {},
   "outputs": [],
   "source": []
  }
 ]
}